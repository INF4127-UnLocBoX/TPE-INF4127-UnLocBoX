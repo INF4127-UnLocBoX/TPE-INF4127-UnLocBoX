{
 "cells": [
  {
   "cell_type": "markdown",
   "id": "50f25ce6",
   "metadata": {},
   "source": [
    "BIENVENU SUR LE TUTORIEL 1 SUR L'ANALYSE CONVEXE AVEC color"
   ]
  },
  {
   "cell_type": "markdown",
   "id": "6cd7b125",
   "metadata": {},
   "source": [
    "EN DEBUTTANT SUR MATLAB POUR RESOUDRE DES PROBLEMES D'OPTIMISATON CONVEXE :"
   ]
  },
  {
   "cell_type": "markdown",
   "id": "94f72527",
   "metadata": {},
   "source": [
    "--il faut connaitre ce qu'es une fonction convexe"
   ]
  },
  {
   "cell_type": "markdown",
   "id": "edd8644b",
   "metadata": {},
   "source": [
    "--Lorsqu'une fonction est dérivable et quel difference avec une fonction non dérivable"
   ]
  },
  {
   "cell_type": "markdown",
   "id": "65520ed9",
   "metadata": {},
   "source": [
    "--quels sont les fonctions objectifs qui existe et comment faire le choix de la fonction objectif et aussi voir si on creer une fonction par rapport au problème qu'on rencontre"
   ]
  },
  {
   "cell_type": "markdown",
   "id": "1cbcf989",
   "metadata": {},
   "source": [
    "<div style=\"font-weight: bold; text-transform: uppercase; text-align: center; color: red; font-size: 25px;\">\n",
    "  commençons\n",
    "</div>\n"
   ]
  },
  {
   "cell_type": "markdown",
   "id": "26423012",
   "metadata": {},
   "source": [
    "Le Forward-Backward est un algorithme classique pour résoudre des problèmes d’optimisation de la forme"
   ]
  },
  {
   "attachments": {
    "Capture d’écran du 2025-10-22 19-08-13.png": {
     "image/png": "[encoded data removed]"
    }
   },
   "cell_type": "markdown",
   "id": "b0a18a77",
   "metadata": {},
   "source": [
    "![Capture d’écran du 2025-10-22 19-08-13.png](<attachment:Capture d’écran du 2025-10-22 19-08-13.png>)"
   ]
  },
  {
   "cell_type": "markdown",
   "id": "52c6e495",
   "metadata": {},
   "source": [
    "prenons la focntion si dessus : onservation cette focntion est differentiable et donc on applique l'algorithme de Forward-Backward"
   ]
  },
  {
   "cell_type": "markdown",
   "id": "927e2be9",
   "metadata": {},
   "source": [
    "Alors, f.eval est utiliser pour definir la fonction objectif a evaluer\n",
    "f.grad : utiliser pour calculer le gradient vu que la focntion est derivable\n",
    "f.beta : pour calculer le gradient de Lipschitz"
   ]
  },
  {
   "cell_type": "code",
   "execution_count": null,
   "id": "2e0adb10",
   "metadata": {
    "vscode": {
     "languageId": "plaintext"
    }
   },
   "outputs": [],
   "source": [
    "tau = 5;\n",
    "f.eval = @(x) tau * norm(x);\n",
    "f.grad = @(x) 2 * tau * (x - y);\n",
    "f.beta = 2 * tau;"
   ]
  },
  {
   "cell_type": "markdown",
   "id": "b3c44b01",
   "metadata": {},
   "source": [
    "<div>approchons la fonction par un operateur proximal de norme l2</div>\n",
    "\n",
    "</ul>\n"
   ]
  },
  {
   "cell_type": "code",
   "execution_count": null,
   "id": "db5c6272",
   "metadata": {
    "vscode": {
     "languageId": "plaintext"
    }
   },
   "outputs": [],
   "source": [
    "tau = 5;\n",
    "f.eval = @(x) tau * norm(x);\n",
    "paramf.y = y;\n",
    "f.prox = @(x,T) prox_l2( x, tau*T , paramf );"
   ]
  },
  {
   "cell_type": "markdown",
   "id": "b0e5dcaf",
   "metadata": {},
   "source": [
    "l'ajout de parametre optionnel est paramf"
   ]
  },
  {
   "cell_type": "markdown",
   "id": "c18ba8c1",
   "metadata": {},
   "source": [
    "passons le tout a notre solveur solvep "
   ]
  },
  {
   "cell_type": "code",
   "execution_count": null,
   "id": "b9fa4fdf",
   "metadata": {
    "vscode": {
     "languageId": "plaintext"
    }
   },
   "outputs": [],
   "source": [
    "sol = solvep(x_0, {f1, f2, f3});"
   ]
  },
  {
   "cell_type": "markdown",
   "id": "50c9b585",
   "metadata": {},
   "source": [
    "prenons l'exemple qui nous permettra de selectionner un solveur"
   ]
  },
  {
   "cell_type": "code",
   "execution_count": null,
   "id": "b5d6c959",
   "metadata": {
    "vscode": {
     "languageId": "plaintext"
    }
   },
   "outputs": [],
   "source": [
    "\n",
    "s.name = 'DEMO_FORWARD_BACKWARD';\n",
    "s.initialize = @(x_0, fg, Fp, param) ...\n",
    "forward_backward_initialize(x_0,fg,Fp,param);\n",
    "s.algorithm = @(x_0, fg, Fp, sol, s, param) ...\n",
    "forward_backward_algorithm(fg, Fp, sol, s, param);\n",
    "s.finalize = @(x_0, fg, Fp, sol, s, param) sol;"
   ]
  },
  {
   "cell_type": "markdown",
   "id": "1777d935",
   "metadata": {},
   "source": []
  },
  {
   "cell_type": "markdown",
   "id": "d43933a0",
   "metadata": {},
   "source": [
    "<div style=\"font-family: Arial, sans-serif; line-height: 1.5; padding: 12px; border-radius: 6px;\">\n",
    "\n",
    "  <h3 style=\"text-transform: uppercase; font-size: 18px; text-align: center;\">\n",
    "    Exemple d'utilisation du solveur Forward-Backward\n",
    "  </h3>\n",
    "\n",
    "  <ol style=\"margin-left: 20px;  font-size: 15px;\">\n",
    "    <li>\n",
    "      <strong>Appel du solveur :</strong> On crée une variable <code>s</code> pour contenir le solveur.\n",
    "    </li>\n",
    "    <li>\n",
    "      <strong>Initialisation :</strong> On initialise la fonction avec <code>s.initialize</code>, qui prépare les variables internes et la solution initiale.\n",
    "    </li>\n",
    "    <li>\n",
    "      <strong>Choix de l'algorithme :</strong> On définit <code>s.algorithm</code> comme <code>forward_backward_algorithm</code>, qui sera appelé à chaque itération pour mettre à jour la solution.\n",
    "    </li>\n",
    "  </ol>\n",
    "\n",
    "  <p style=\" font-size: 14px;\">\n",
    "    Ainsi, la structure <code>s</code> contient toutes les informations nécessaires : nom du solveur, initialisation, algorithme principal et post-traitement.\n",
    "  </p>\n",
    "\n",
    "</div>\n"
   ]
  },
  {
   "cell_type": "markdown",
   "id": "85485ad2",
   "metadata": {},
   "source": [
    "<div style=\"font-family: Arial, sans-serif; line-height: 1.5; padding: 12px; border-radius: 6px;\">\n",
    "\n",
    "  <h3 style=\"color: #28a745; text-transform: uppercase; font-size: 18px; text-align: center;\">\n",
    "    But de la fonction d'initialisation\n",
    "  </h3>\n",
    "\n",
    "  <p style=\"font-size: 15px; text-align: justify;\">\n",
    "    Cette fonction a pour objectif de <strong>préparer le solver</strong> pour l’algorithme <code>Forward-Backward</code>. \n",
    "    Elle initialise les éléments essentiels pour le bon déroulement de l’optimisation :\n",
    "  </p>\n",
    "\n",
    "  <ul style=\"list-style-type: disc; margin-left: 25px;font-size: 15px;\">\n",
    "    <li><strong>sol :</strong> point de départ de l’optimisation.</li>\n",
    "    <li><strong>s :</strong> structure servant à stocker les variables internes, comme <code>x_n</code>.</li>\n",
    "    <li><strong>param :</strong> paramètres optionnels du solver, tels que <code>lambda</code>, <code>gamma</code>, etc.</li>\n",
    "  </ul>\n",
    "\n",
    "</div>\n"
   ]
  },
  {
   "cell_type": "code",
   "execution_count": null,
   "id": "34c382cf",
   "metadata": {
    "vscode": {
     "languageId": "plaintext"
    }
   },
   "outputs": [],
   "source": [
    "\n",
    "s.name = 'DEMO_FORWARD_BACKWARD';\n",
    "s.initialize = @(x_0, fg, Fp, param) ..."
   ]
  },
  {
   "cell_type": "markdown",
   "id": "2bfd5d9f",
   "metadata": {},
   "source": [
    "<div style=\"font-family: Arial, sans-serif; line-height: 1.5; padding: 12px; border-radius: 6px;\">\n",
    "\n",
    "  <h3 style=\"color: #ffc107; text-transform: uppercase; font-size: 18px; text-align: center;\">\n",
    "    Gestion de <code>lambda</code> et vérification de <code>Fp</code>\n",
    "  </h3>\n",
    "\n",
    "  <p style=\"font-size: 15px; text-align: justify;\">\n",
    "    Si l’utilisateur n’a pas fourni <code>lambda</code>, la fonction le fixe à <strong>1 par défaut</strong>.  \n",
    "    <code>lambda</code> est le facteur de relaxation utilisé pour mettre à jour <code>sol</code> dans l’algorithme Forward-Backward.\n",
    "  </p>\n",
    "\n",
    "  <p style=\"font-size: 15px; text-align: justify;\">\n",
    "    La fonction effectue également une vérification de <code>Fp</code> :\n",
    "  </p>\n",
    "\n",
    "  <ul style=\"list-style-type: disc; margin-left: 25px; font-size: 15px;\">\n",
    "    <li>On s’assure que <code>Fp</code> ne contient qu’une seule fonction non différentiable.  \n",
    "        Si plusieurs sont présentes, le solver Forward-Backward n’est pas applicable et génère une erreur.</li>\n",
    "    <li>Cette vérification garantit la compatibilité de l’algorithme avec les termes non lisses.</li>\n",
    "  </ul>\n",
    "\n",
    "</div>\n"
   ]
  },
  {
   "cell_type": "code",
   "execution_count": null,
   "id": "7a624b90",
   "metadata": {
    "vscode": {
     "languageId": "plaintext"
    }
   },
   "outputs": [],
   "source": [
    "if numel(Fp)>1\n",
    "error(['This solver can not be used to optimize',...\n",
    "' more than one non smooth function']);\n",
    "end\n",
    "if ~fg.beta\n",
    "error('Beta = 0! This solver requires a smooth term.');\n",
    "end"
   ]
  },
  {
   "cell_type": "markdown",
   "id": "cdd17ea1",
   "metadata": {},
   "source": [
    "<div style=\"font-family: Arial, sans-serif; line-height: 1.5; padding: 12px; border-radius: 6px;\">\n",
    "\n",
    "  <h3 style=\"color: #dc3545; text-transform: uppercase; font-size: 18px; text-align: center;\">\n",
    "    Vérification de <code>Fg.beta</code>\n",
    "  </h3>\n",
    "\n",
    "  <p style=\"font-size: 15px; text-align: justify;\">\n",
    "    Le solver <strong>Forward-Backward</strong> ne peut traiter qu’une seule fonction non-lisse, par exemple la norme <code>L1</code>.  \n",
    "    La fonction vérifie ensuite <code>fg.beta</code> pour s’assurer qu’un terme lisse est présent :\n",
    "  </p>\n",
    "\n",
    "  <ul style=\"list-style-type: disc; margin-left: 25px; font-size: 15px;\">\n",
    "    <li>Si <code>fg.beta = 0</code>, cela signifie qu’aucune fonction lisse n’a été fournie.</li>\n",
    "    <li>Dans ce cas, le solver ne peut pas être utilisé et une <strong>erreur</strong> est générée.</li>\n",
    "    <li>Cette vérification garantit que l’algorithme Forward-Backward fonctionne correctement avec un terme différentiable et un terme proximable.</li>\n",
    "  </ul>\n",
    "\n",
    "</div>\n"
   ]
  },
  {
   "cell_type": "code",
   "execution_count": null,
   "id": "2eae46af",
   "metadata": {
    "vscode": {
     "languageId": "plaintext"
    }
   },
   "outputs": [],
   "source": [
    "if ~fg.beta\n",
    "    error('Beta = 0! This solver requires a smooth term.');\n",
    "end\n"
   ]
  },
  {
   "cell_type": "markdown",
   "id": "fa28a5cf",
   "metadata": {},
   "source": [
    "<div style=\"font-family: Arial, sans-serif; line-height: 1.5; padding: 12px; border-radius: 6px;\">\n",
    "\n",
    "  <h3 style=\"color: #6f42c1; text-transform: uppercase; font-size: 18px; text-align: center;\">\n",
    "    Étapes Forward-Backward\n",
    "  </h3>\n",
    "\n",
    "  <ul style=\"list-style-type: disc; margin-left: 25px; font-size: 15px;\">\n",
    "    <li><strong>Forward step :</strong> appliqué sur la fonction lisse <code>f</code>. Ici, pas de gradient, on prépare la mise à jour.</li>\n",
    "    <li><strong>Backward step :</strong> application du proximal operator de la fonction non-lisse <code>g</code> via <code>Fp{1}.prox(...)</code>.</li>\n",
    "    <li><strong>Stockage :</strong> le résultat de l’itération est stocké dans <code>s.x_n</code> pour suivre les itérations ou pour implémenter des variantes de l’algorithme.</li>\n",
    "  </ul>\n",
    "\n",
    "</div>\n"
   ]
  },
  {
   "cell_type": "code",
   "execution_count": null,
   "id": "2660d61b",
   "metadata": {
    "vscode": {
     "languageId": "plaintext"
    }
   },
   "outputs": [],
   "source": [
    "function [sol, s] = forward_backward_algorithm(fg, Fp, sol, s, param)\n",
    "    % The forward backward algorithm is done in two steps\n",
    "    \n",
    "    s.x_n = Fp{1}.prox(sol - param.gamma * fg.grad(sol), param.gamma);\n",
    "\n",
    "\n",
    "    sol = sol + lambda * (x_n - sol)\n",
    "end"
   ]
  },
  {
   "cell_type": "markdown",
   "id": "5d96173f",
   "metadata": {},
   "source": [
    "<div style=\"font-family: Arial, sans-serif; line-height: 1.5; padding: 12px; border-radius: 6px;\">\n",
    "\n",
    "  <h3 style=\"color: #17a2b8; text-transform: uppercase; font-size: 18px; text-align: center;\">\n",
    "    Points critiques à retenir\n",
    "  </h3>\n",
    "\n",
    "  <ul style=\"list-style-type: disc; margin-left: 25px; font-size: 15px;\">\n",
    "    <li><strong>param.lambda</strong> : utilisé pour contrôler la vitesse de mise à jour de <code>sol</code>.</li>\n",
    "    <li><strong>param.gamma</strong> : pas du gradient. Doit être inférieur à <code>1/β</code> pour assurer la convergence.</li>\n",
    "    <li><strong>Fg</strong> (fonction lisse) : doit posséder les champs <code>grad</code> et <code>beta</code>.</li>\n",
    "    <li><strong>Fp</strong> (fonction non-lisse) : doit posséder la méthode <code>.prox</code>.</li>\n",
    "    <li><strong>Stocker <code>x_n</code> dans <code>s</code></strong> : permet de suivre les itérations ou d’implémenter des variantes de l’algorithme.</li>\n",
    "  </ul>\n",
    "\n",
    "</div>\n"
   ]
  },
  {
   "cell_type": "code",
   "execution_count": null,
   "id": "6285e3ae",
   "metadata": {
    "vscode": {
     "languageId": "plaintext"
    }
   },
   "outputs": [],
   "source": [
    "sol = sol + param.lambda * (s.x_n - sol);\n"
   ]
  }
 ],
 "metadata": {
  "language_info": {
   "name": "python"
  }
 },
 "nbformat": 4,
 "nbformat_minor": 5
}

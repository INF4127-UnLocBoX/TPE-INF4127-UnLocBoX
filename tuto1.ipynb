{
 "cells": [
  {
   "cell_type": "markdown",
   "id": "50f25ce6",
   "metadata": {},
   "source": [
    "BIENVENU SUR LE TUTORIEL 1 SUR L'ANALYSE CONVEXE AVEC color"
   ]
  },
  {
   "cell_type": "markdown",
   "id": "6cd7b125",
   "metadata": {},
   "source": [
    "EN DEBUTTANT SUR MATLAB POUR RESOUDRE DES PROBLEMES D'OPTIMISATON CONVEXE :"
   ]
  },
  {
   "cell_type": "markdown",
   "id": "94f72527",
   "metadata": {},
   "source": [
    "--il faut connaitre ce qu'es une fonction convexe"
   ]
  },
  {
   "cell_type": "markdown",
   "id": "edd8644b",
   "metadata": {},
   "source": [
    "--Lorsqu'une fonction est dérivable et quel difference avec une fonction non dérivable"
   ]
  },
  {
   "cell_type": "markdown",
   "id": "65520ed9",
   "metadata": {},
   "source": [
    "--quels sont les fonctions objectifs qui existe et comment faire le choix de la fonction objectif et aussi voir si on creer une fonction par rapport au problème qu'on rencontre"
   ]
  },
  {
   "cell_type": "markdown",
   "id": "1cbcf989",
   "metadata": {},
   "source": [
    "<div style=\"font-weight: bold; text-transform: uppercase; text-align: center; color: red; font-size: 25px;\">\n",
    "  commençons\n",
    "</div>\n"
   ]
  },
  {
   "cell_type": "markdown",
   "id": "26423012",
   "metadata": {},
   "source": [
    "par définition une fonction convexe c'est:"
   ]
  },
  {
   "cell_type": "markdown",
   "id": "52c6e495",
   "metadata": {},
   "source": [
    "Une fonction f : R^n → R est dite convexe si :\n",
    "f (θx + (1 − θ)y) ≤ θf (x) + (1 − θ)f (y),\n",
    "∀x, y ∈ R^n , θ ∈ [0, 1]."
   ]
  },
  {
   "cell_type": "markdown",
   "id": "b3c44b01",
   "metadata": {},
   "source": [
    "<div>Maintenant, une fonction peut être :</div>\n",
    "<ul>\n",
    "  <li>Convexe</li>\n",
    "  <li>Strictement convexe</li>\n",
    "  <li>De Lipschitz</li>\n",
    "</ul>\n"
   ]
  },
  {
   "cell_type": "markdown",
   "id": "9fcf17ae",
   "metadata": {},
   "source": [
    "Lorsqu'on fait de l'optimisation, généralement on doit minimiser ou maximiser une fonction et souvent des contraintes accompagne ses fonctions"
   ]
  },
  {
   "cell_type": "markdown",
   "id": "79c6303a",
   "metadata": {},
   "source": [
    "<div>UNLOCBOX qui est une boite a outils de Matlab developper pour faciliter la mise en œuvre de ces méthodes apportant modularité et intuitivité</div>"
   ]
  },
  {
   "cell_type": "markdown",
   "id": "9bebf21d",
   "metadata": {},
   "source": [
    "<ul><li>L’intérêt de cette bibliothèque réside dans sa capacité à décomposer un problème com-\n",
    "plexe en une succession de sous-problèmes plus simples, chacun étant résolu par une\n",
    "méthode adaptée</li></ul>"
   ]
  },
  {
   "cell_type": "markdown",
   "id": "8ce1eded",
   "metadata": {},
   "source": [
    "<div>\n",
    "  Comme tout outil, essayons de comprendre son fonctionnement, commençons par :\n",
    "  <ul>\n",
    "    <li style=\"list-style-type: square;\">\n",
    "      l’architecture et la structure interne de UNLocBoX\n",
    "      <ul>   <li style=\"list-style-type: square;\">\n",
    "      comprehension de la méthode de division proximal\n",
    "    </li>\n",
    "            <li style=\"list-style-type: square;\">\n",
    "      comprehension solveurs et de quelques solveurs qui existe sur cette outils Unlocbox\n",
    "    </li>\n",
    "\n",
    "</ul>\n",
    "      <li style=\"list-style-type: square;\">\n",
    "      Avantages\n",
    "    </li>\n",
    "</ul>\n",
    "\n",
    "</div>\n"
   ]
  },
  {
   "cell_type": "markdown",
   "id": "a2730cfa",
   "metadata": {},
   "source": [
    "<div style=\"font-family: Arial, sans-serif; line-height: 1.6; padding: 12px; border-radius: 6px;\">\n",
    "\n",
    "  <h3 style=\"color: #007BFF; text-transform: uppercase; text-align: center; font-size: 20px;\">\n",
    "    Architecture de UNLocBoX\n",
    "  </h3>\n",
    "\n",
    "  <p style=\"font-size: 16px;  text-align: justify;\">\n",
    "    L’architecture est composée de <strong>trois fonctions principales</strong> :\n",
    "  </p>\n",
    "\n",
    "  <ul style=\"list-style-type: square; margin-left: 25px;  font-size: 15px;\">\n",
    "    <li>\n",
    "      <strong>Un solveur :</strong> il permet de résoudre les problèmes d’optimisation.  \n",
    "      <br>\n",
    "      <span style=\"\">Les solveurs disponibles sont :</span>\n",
    "      <span style=\"font-weight: bold;\">\n",
    "        Forward-Backward (FISTA), Douglas-Rachford, PPXA, SDMM\n",
    "      </span>.\n",
    "    </li>\n",
    "    <li>\n",
    "      <strong>Un opérateur de division proximal :</strong> il gère les fonctions non différentiables et applique les prox correspondants.\n",
    "    </li>\n",
    "    <li>\n",
    "      <strong>Un fichier de démonstration :</strong> il contient des exemples pratiques pour montrer comment utiliser les différents solveurs.\n",
    "    </li>\n",
    "    <li>\n",
    "      <strong>Une fonction utilitaire :</strong> elle regroupe les outils nécessaires au calcul du gradient, à l’affichage et à la configuration des paramètres.\n",
    "    </li>\n",
    "  </ul>\n",
    "\n",
    "</div>\n"
   ]
  },
  {
   "cell_type": "markdown",
   "id": "83b20b19",
   "metadata": {},
   "source": [
    "allons au solveurs:"
   ]
  },
  {
   "cell_type": "markdown",
   "id": "15571a53",
   "metadata": {},
   "source": [
    "voici une fonction:"
   ]
  },
  {
   "attachments": {
    "Capture d’écran du 2025-10-22 17-55-49.png": {
     "image/png": "[encoded data removed]"
    }
   },
   "cell_type": "markdown",
   "id": "38607c0b",
   "metadata": {},
   "source": [
    "![Capture d’écran du 2025-10-22 17-55-49.png](<attachment:Capture d’écran du 2025-10-22 17-55-49.png>)"
   ]
  },
  {
   "cell_type": "markdown",
   "id": "3b46b63e",
   "metadata": {},
   "source": [
    "le champ f.eval est un handle de fonction MATLAB qui prend en entrée les variables d'optimisation x et\n",
    "renvoie la valeur f(x)."
   ]
  },
  {
   "cell_type": "code",
   "execution_count": null,
   "id": "9f47a8ee",
   "metadata": {
    "vscode": {
     "languageId": "plaintext"
    }
   },
   "outputs": [],
   "source": [
    "f.eval = @(x) eval_f(x)"
   ]
  },
  {
   "cell_type": "markdown",
   "id": "a813a961",
   "metadata": {},
   "source": [
    "f.grad\n",
    "comme handle d'une fonction qui prend en entrée les variables d'optimisation x et renvoie\n",
    "f(x).\n",
    "Dans MATLAB,\n",
    "NB : applicable si la fonction est differentiable"
   ]
  },
  {
   "cell_type": "code",
   "execution_count": null,
   "id": "66e6e610",
   "metadata": {
    "vscode": {
     "languageId": "plaintext"
    }
   },
   "outputs": [],
   "source": [
    "f.grad = @(x) grad_f(x)"
   ]
  },
  {
   "cell_type": "markdown",
   "id": "b937d2dd",
   "metadata": {},
   "source": [
    "le champ bêta doit également être spécifié. Il contient une\n",
    "borne supérieure de la constante de Lipschitz du gradient"
   ]
  },
  {
   "cell_type": "code",
   "execution_count": null,
   "id": "fec7aee3",
   "metadata": {
    "vscode": {
     "languageId": "plaintext"
    }
   },
   "outputs": [],
   "source": [
    "k∇f (x) − ∇f (y)k2 ≤ βkx − yk2"
   ]
  },
  {
   "cell_type": "code",
   "execution_count": null,
   "id": "69683406",
   "metadata": {
    "vscode": {
     "languageId": "plaintext"
    }
   },
   "outputs": [],
   "source": [
    "f.beta =  @(x) f(x)"
   ]
  },
  {
   "cell_type": "markdown",
   "id": "b7f08b3a",
   "metadata": {},
   "source": [
    "le champ gamma pour le pas d'itération"
   ]
  },
  {
   "cell_type": "markdown",
   "id": "c18ec376",
   "metadata": {},
   "source": [
    "la tolerance est perçus comme un crictere d'arret de l'algortihme"
   ]
  },
  {
   "cell_type": "code",
   "execution_count": null,
   "id": "df139562",
   "metadata": {
    "vscode": {
     "languageId": "plaintext"
    }
   },
   "outputs": [],
   "source": [
    "param.tol = 10e-5;"
   ]
  },
  {
   "cell_type": "code",
   "execution_count": null,
   "id": "e84bc219",
   "metadata": {
    "vscode": {
     "languageId": "plaintext"
    }
   },
   "outputs": [],
   "source": [
    "param.gamma = 1;"
   ]
  },
  {
   "cell_type": "markdown",
   "id": "4e4f3393",
   "metadata": {},
   "source": [
    "le champ pour le maximum d'iteration max iterartion (maxit)"
   ]
  },
  {
   "cell_type": "code",
   "execution_count": null,
   "id": "a9388018",
   "metadata": {
    "vscode": {
     "languageId": "plaintext"
    }
   },
   "outputs": [],
   "source": [
    "param.maxit = 100;"
   ]
  },
  {
   "cell_type": "markdown",
   "id": "fb544c12",
   "metadata": {},
   "source": [
    "le parametre et hyperparametre\n",
    "on peut citer:\n",
    "-verbose a 0 n'affiche aucune information\n",
    "-verbose a 1 affiche les informations sur la convergence de la fonction de coût\n",
    "-verbose a 2 affiche toutes les informations comme la convergence, le pas d'iteration, les valeurs des parametres\n"
   ]
  },
  {
   "cell_type": "markdown",
   "id": "dd836e9e",
   "metadata": {},
   "source": [
    "il est important que dans la notion de solveurs on parle aussi des parametre qui sont des éléments optionnels"
   ]
  },
  {
   "cell_type": "markdown",
   "id": "cb7595c1",
   "metadata": {},
   "source": [
    "par exemple pour la norme l1 ou la norme l2 encore appellé penalisation l1 et l2 on ecrit : "
   ]
  },
  {
   "cell_type": "code",
   "execution_count": null,
   "id": "5f0fcee7",
   "metadata": {
    "vscode": {
     "languageId": "plaintext"
    }
   },
   "outputs": [],
   "source": [
    "param_l1.At = @(x)"
   ]
  },
  {
   "cell_type": "markdown",
   "id": "e783588c",
   "metadata": {},
   "source": [
    "en effet le tutoriel nous apprend sur 3 paramètre d'optmisation: \n",
    "prenons d'abord une fonction de coût quadratique comme "
   ]
  },
  {
   "attachments": {
    "Capture d’écran du 2025-10-22 18-00-38.png": {
     "image/png": "[encoded data removed]"
    }
   },
   "cell_type": "markdown",
   "id": "7a824641",
   "metadata": {},
   "source": [
    "![Capture d’écran du 2025-10-22 18-00-38.png](<attachment:Capture d’écran du 2025-10-22 18-00-38.png>)"
   ]
  },
  {
   "cell_type": "markdown",
   "id": "a23703b9",
   "metadata": {},
   "source": [
    "le paramètre A, X, Y"
   ]
  },
  {
   "cell_type": "markdown",
   "id": "2cddafa3",
   "metadata": {},
   "source": [
    "ces parametres sont : \n",
    "\n",
    "param_l1.A =@(x) W * x \n",
    "param_l1.At = @(x) W' *x\n",
    "param_l1.tight = 0; param_l1.nu = norm(W)^2\n"
   ]
  },
  {
   "cell_type": "markdown",
   "id": "d7794734",
   "metadata": {},
   "source": [
    "ces paramètres de regularisation sont utile car permet de donner de bonne propriete au fonctions, souvent ajuster d'un parametre lambda qui est dans [0, 1]"
   ]
  },
  {
   "cell_type": "markdown",
   "id": "bb8dce36",
   "metadata": {},
   "source": [
    "le solveur dans unlocbox appelée solvep prend 3 parametre pour evaluer une fonction : "
   ]
  },
  {
   "cell_type": "code",
   "execution_count": null,
   "id": "4f2cfde4",
   "metadata": {
    "vscode": {
     "languageId": "plaintext"
    }
   },
   "outputs": [],
   "source": [
    "sol = solvep(x_0, {f1, f2, f3}, param);"
   ]
  },
  {
   "cell_type": "markdown",
   "id": "994c7570",
   "metadata": {},
   "source": [
    "Les operateurs Proximal"
   ]
  },
  {
   "cell_type": "markdown",
   "id": "efdbce74",
   "metadata": {},
   "source": [
    "Si la fonction f n'est pas différentiable, elle doit être minimisée par son opérateur proximal."
   ]
  },
  {
   "cell_type": "markdown",
   "id": "38c72d48",
   "metadata": {},
   "source": [
    "donc on applique un opérateur proximal lorsque la focntion n'est pas differentiable.\n"
   ]
  },
  {
   "cell_type": "code",
   "execution_count": null,
   "id": "603a7ffd",
   "metadata": {
    "vscode": {
     "languageId": "plaintext"
    }
   },
   "outputs": [],
   "source": [
    "f1.prox = @(x, T) prox_f1(x, c*T)"
   ]
  },
  {
   "cell_type": "markdown",
   "id": "c83e59b5",
   "metadata": {},
   "source": [
    "l'idée est de trouver une x proche de la fonction ce qui veut dire encore proximite de f de t par c"
   ]
  },
  {
   "cell_type": "code",
   "execution_count": null,
   "id": "0032a8dd",
   "metadata": {
    "vscode": {
     "languageId": "plaintext"
    }
   },
   "outputs": [],
   "source": [
    "f.eval = @(x) 7 * norm(x, 1);\n",
    "f.prox = @(x, T) prox_l1(x, 7*T);"
   ]
  },
  {
   "cell_type": "markdown",
   "id": "24d2aa2c",
   "metadata": {},
   "source": [
    "on disque d'autre opérateur comme des normes l1, l2, l12, lTV (norme de variation total), l*(norme nucleaire)\n"
   ]
  },
  {
   "cell_type": "markdown",
   "id": "7b55aa39",
   "metadata": {},
   "source": [
    "prenons un exemple concret et appliquons avec Unlocbox sur Matlab\n",
    "\n",
    "voyons une image d'un cameramen, et enlevons queque pixel et masqu'on avec un masque A et reconstituons l'image original"
   ]
  },
  {
   "cell_type": "markdown",
   "id": "ceaf2f69",
   "metadata": {},
   "source": [
    "on initialise : avec "
   ]
  },
  {
   "cell_type": "code",
   "execution_count": null,
   "id": "72160311",
   "metadata": {
    "vscode": {
     "languageId": "plaintext"
    }
   },
   "outputs": [],
   "source": [
    "% Loading toolbox\n",
    "init_unlocbox;"
   ]
  },
  {
   "cell_type": "markdown",
   "id": "d5aabe7e",
   "metadata": {},
   "source": [
    "importons l'image avec imagesec"
   ]
  },
  {
   "cell_type": "code",
   "execution_count": null,
   "id": "aa0baafa",
   "metadata": {
    "vscode": {
     "languageId": "plaintext"
    }
   },
   "outputs": [],
   "source": [
    "imagesc_gray(im_original, 1, 'Original image');"
   ]
  },
  {
   "cell_type": "markdown",
   "id": "8584221a",
   "metadata": {},
   "source": [
    "introduisons un bruit qui evolue sous une forme de lois normal"
   ]
  },
  {
   "cell_type": "code",
   "execution_count": null,
   "id": "42482320",
   "metadata": {
    "vscode": {
     "languageId": "plaintext"
    }
   },
   "outputs": [],
   "source": [
    "sigma_noise = 10/255;\n",
    "im_noisy = im_original + sigma_noise * randn(size(im_original));\n"
   ]
  },
  {
   "cell_type": "markdown",
   "id": "ed080726",
   "metadata": {},
   "source": [
    "creons une matrice avec 50 zeros et un pas p"
   ]
  },
  {
   "cell_type": "code",
   "execution_count": null,
   "id": "161cb4e3",
   "metadata": {
    "vscode": {
     "languageId": "plaintext"
    }
   },
   "outputs": [],
   "source": [
    "% Create a matrix with randomly 50 % of zeros entry\n",
    "p = 0.5;\n",
    "matA = rand(size(im_original));\n",
    "matA = (matA > (1-p));\n",
    "% Define the operator\n",
    "A = @(x) matA .* x;"
   ]
  },
  {
   "cell_type": "markdown",
   "id": "d9fc44e0",
   "metadata": {},
   "source": [
    "appliquons le mask"
   ]
  },
  {
   "cell_type": "code",
   "execution_count": null,
   "id": "be4841e5",
   "metadata": {
    "vscode": {
     "languageId": "plaintext"
    }
   },
   "outputs": [],
   "source": [
    "% Masked image\n",
    "y = A(im_noisy);"
   ]
  },
  {
   "cell_type": "markdown",
   "id": "1c1035cf",
   "metadata": {},
   "source": [
    "fixons les parametres avant de passer la fonction objectif dans le solveurs"
   ]
  },
  {
   "cell_type": "code",
   "execution_count": null,
   "id": "be2b4ac8",
   "metadata": {
    "vscode": {
     "languageId": "plaintext"
    }
   },
   "outputs": [],
   "source": [
    "\n",
    "lambda = 1;\n",
    "% setting the function f1 (norm TV)\n",
    "param_tv.verbose = verbose - 1;\n",
    "param_tv.maxit = 100;"
   ]
  },
  {
   "cell_type": "markdown",
   "id": "f4460cc0",
   "metadata": {},
   "source": [
    "evaluation de la fonction et definition de l'operateur proximal"
   ]
  },
  {
   "cell_type": "code",
   "execution_count": null,
   "id": "2931d7be",
   "metadata": {
    "vscode": {
     "languageId": "plaintext"
    }
   },
   "outputs": [],
   "source": [
    "f1.prox = @(x, T) prox_tv(x, lambda*T, param_tv);\n",
    "f1.eval = @(x) lambda * norm_tv(x);"
   ]
  },
  {
   "cell_type": "markdown",
   "id": "ecbc5fa1",
   "metadata": {},
   "source": [
    "configuration de la division f2"
   ]
  },
  {
   "cell_type": "code",
   "execution_count": null,
   "id": "65703606",
   "metadata": {
    "vscode": {
     "languageId": "plaintext"
    }
   },
   "outputs": [],
   "source": [
    "% setting the function f2\n",
    "param_proj.epsilon = sqrt(sigma_noise^2 * numel(im_original) * p);\n",
    "param_proj.A = A;\n",
    "param_proj.At = A;\n",
    "param_proj.y = y;"
   ]
  },
  {
   "cell_type": "markdown",
   "id": "ddbf726d",
   "metadata": {},
   "source": [
    "definition des contraintes avec des projections : les projections servent a evaluer les contraintes"
   ]
  },
  {
   "cell_type": "code",
   "execution_count": null,
   "id": "8d53ed30",
   "metadata": {
    "vscode": {
     "languageId": "plaintext"
    }
   },
   "outputs": [],
   "source": [
    "param_proj.verbose = verbose - 1;\n",
    "f2.prox = @(x, T) proj_b2(x, T, param_proj);\n",
    "f2.eval = @(x) eps;"
   ]
  },
  {
   "cell_type": "markdown",
   "id": "f860d416",
   "metadata": {},
   "source": [
    "definition des hyper-parametres"
   ]
  },
  {
   "cell_type": "code",
   "execution_count": null,
   "id": "9fbf9607",
   "metadata": {
    "vscode": {
     "languageId": "plaintext"
    }
   },
   "outputs": [],
   "source": [
    "% setting different parameters for the simulation\n",
    "param_dg.verbose = verbose;\n",
    "% display parameter\n",
    "param_dg.maxit = 100;\n",
    "% maximum number of iterations\n",
    "param_dg.tol = 1e-5;\n",
    "% tolerance to stop iterating\n",
    "param_dg.gamma = 0.1 ;"
   ]
  },
  {
   "cell_type": "markdown",
   "id": "1fde2b2d",
   "metadata": {},
   "source": [
    "choix de la methode : ici,douglas_rachford"
   ]
  },
  {
   "cell_type": "code",
   "execution_count": null,
   "id": "c40d009a",
   "metadata": {
    "vscode": {
     "languageId": "plaintext"
    }
   },
   "outputs": [],
   "source": [
    "% solving the problem with Douglas Rachord\n",
    "param_dg.method = 'douglas_rachford';\n",
    "sol = solvep(y, {f1, f2}, param_dg);"
   ]
  },
  {
   "cell_type": "markdown",
   "id": "b1228355",
   "metadata": {},
   "source": [
    "la fonction converge et affiche les infos c'est à dire toutes les informations car on a fixer verbose a 2."
   ]
  },
  {
   "cell_type": "markdown",
   "id": "cfdcb08e",
   "metadata": {},
   "source": [
    "au bout de 15 iterations on a : Iter 063:     Prox_TV: obj = 7.017637e+01, rel_obj = 9.996872e-04, TOL_EPS, iter = 15"
   ]
  }
 ],
 "metadata": {
  "language_info": {
   "name": "python"
  }
 },
 "nbformat": 4,
 "nbformat_minor": 5
}
